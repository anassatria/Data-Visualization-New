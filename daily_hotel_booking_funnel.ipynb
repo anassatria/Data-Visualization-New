{
 "cells": [
  {
   "cell_type": "code",
   "execution_count": 1,
   "metadata": {},
   "outputs": [],
   "source": [
    "import pandas as pd\n"
   ]
  },
  {
   "cell_type": "markdown",
   "metadata": {},
   "source": [
    "Import  file data source ke dalam Jupyter Notebook"
   ]
  },
  {
   "cell_type": "code",
   "execution_count": 2,
   "metadata": {},
   "outputs": [
    {
     "data": {
      "text/html": [
       "<div>\n",
       "<style scoped>\n",
       "    .dataframe tbody tr th:only-of-type {\n",
       "        vertical-align: middle;\n",
       "    }\n",
       "\n",
       "    .dataframe tbody tr th {\n",
       "        vertical-align: top;\n",
       "    }\n",
       "\n",
       "    .dataframe thead th {\n",
       "        text-align: right;\n",
       "    }\n",
       "</style>\n",
       "<table border=\"1\" class=\"dataframe\">\n",
       "  <thead>\n",
       "    <tr style=\"text-align: right;\">\n",
       "      <th></th>\n",
       "      <th>event_time</th>\n",
       "      <th>event_name</th>\n",
       "      <th>interface_type</th>\n",
       "      <th>app_version</th>\n",
       "      <th>visitor_id</th>\n",
       "      <th>session_id</th>\n",
       "    </tr>\n",
       "  </thead>\n",
       "  <tbody>\n",
       "    <tr>\n",
       "      <th>0</th>\n",
       "      <td>2019-02-25 00:00:04</td>\n",
       "      <td>search</td>\n",
       "      <td>Android</td>\n",
       "      <td>2.7.1</td>\n",
       "      <td>581cfab5a3fd5d10beb16fda07e6ed5c</td>\n",
       "      <td>581cfab5a3fd5d10beb16fda07e6ed5c.20190225000004</td>\n",
       "    </tr>\n",
       "    <tr>\n",
       "      <th>1</th>\n",
       "      <td>2019-02-25 00:00:05</td>\n",
       "      <td>search</td>\n",
       "      <td>Android</td>\n",
       "      <td>2.7.1</td>\n",
       "      <td>8b37990ef22b83d9c633c6e70a08c860</td>\n",
       "      <td>8b37990ef22b83d9c633c6e70a08c860.20190225000005</td>\n",
       "    </tr>\n",
       "    <tr>\n",
       "      <th>2</th>\n",
       "      <td>2019-02-25 00:00:08</td>\n",
       "      <td>visit</td>\n",
       "      <td>Android</td>\n",
       "      <td>2.7.1</td>\n",
       "      <td>8b37990ef22b83d9c633c6e70a08c860</td>\n",
       "      <td>8b37990ef22b83d9c633c6e70a08c860.20190225000005</td>\n",
       "    </tr>\n",
       "    <tr>\n",
       "      <th>3</th>\n",
       "      <td>2019-02-25 00:00:30</td>\n",
       "      <td>search</td>\n",
       "      <td>Android</td>\n",
       "      <td>2.7.1</td>\n",
       "      <td>8b37990ef22b83d9c633c6e70a08c860</td>\n",
       "      <td>8b37990ef22b83d9c633c6e70a08c860.20190225000005</td>\n",
       "    </tr>\n",
       "    <tr>\n",
       "      <th>4</th>\n",
       "      <td>2019-02-25 00:00:36</td>\n",
       "      <td>view_product</td>\n",
       "      <td>Android</td>\n",
       "      <td>2.7.1</td>\n",
       "      <td>581cfab5a3fd5d10beb16fda07e6ed5c</td>\n",
       "      <td>581cfab5a3fd5d10beb16fda07e6ed5c.20190225000004</td>\n",
       "    </tr>\n",
       "    <tr>\n",
       "      <th>...</th>\n",
       "      <td>...</td>\n",
       "      <td>...</td>\n",
       "      <td>...</td>\n",
       "      <td>...</td>\n",
       "      <td>...</td>\n",
       "      <td>...</td>\n",
       "    </tr>\n",
       "    <tr>\n",
       "      <th>129229</th>\n",
       "      <td>2019-03-10 23:58:23</td>\n",
       "      <td>search</td>\n",
       "      <td>Ios</td>\n",
       "      <td>2.8.0</td>\n",
       "      <td>19BFB6A168824598B0B09B8812CAEE52</td>\n",
       "      <td>19BFB6A168824598B0B09B8812CAEE52.20190310235501</td>\n",
       "    </tr>\n",
       "    <tr>\n",
       "      <th>129230</th>\n",
       "      <td>2019-03-10 23:58:34</td>\n",
       "      <td>visit</td>\n",
       "      <td>Android</td>\n",
       "      <td>2.8.0</td>\n",
       "      <td>8e9cc85d856c71ed23fe336728460d59</td>\n",
       "      <td>8e9cc85d856c71ed23fe336728460d59.20190310235707</td>\n",
       "    </tr>\n",
       "    <tr>\n",
       "      <th>129231</th>\n",
       "      <td>2019-03-10 23:58:40</td>\n",
       "      <td>view_product</td>\n",
       "      <td>Ios</td>\n",
       "      <td>2.8.0</td>\n",
       "      <td>19BFB6A168824598B0B09B8812CAEE52</td>\n",
       "      <td>19BFB6A168824598B0B09B8812CAEE52.20190310235501</td>\n",
       "    </tr>\n",
       "    <tr>\n",
       "      <th>129232</th>\n",
       "      <td>2019-03-10 23:58:45</td>\n",
       "      <td>search</td>\n",
       "      <td>Ios</td>\n",
       "      <td>2.8.0</td>\n",
       "      <td>19BFB6A168824598B0B09B8812CAEE52</td>\n",
       "      <td>19BFB6A168824598B0B09B8812CAEE52.20190310235501</td>\n",
       "    </tr>\n",
       "    <tr>\n",
       "      <th>129233</th>\n",
       "      <td>2019-03-10 23:58:59</td>\n",
       "      <td>visit</td>\n",
       "      <td>Ios</td>\n",
       "      <td>2.8.0</td>\n",
       "      <td>19BFB6A168824598B0B09B8812CAEE52</td>\n",
       "      <td>19BFB6A168824598B0B09B8812CAEE52.20190310235501</td>\n",
       "    </tr>\n",
       "  </tbody>\n",
       "</table>\n",
       "<p>129234 rows × 6 columns</p>\n",
       "</div>"
      ],
      "text/plain": [
       "                 event_time    event_name interface_type app_version  \\\n",
       "0       2019-02-25 00:00:04        search        Android       2.7.1   \n",
       "1       2019-02-25 00:00:05        search        Android       2.7.1   \n",
       "2       2019-02-25 00:00:08         visit        Android       2.7.1   \n",
       "3       2019-02-25 00:00:30        search        Android       2.7.1   \n",
       "4       2019-02-25 00:00:36  view_product        Android       2.7.1   \n",
       "...                     ...           ...            ...         ...   \n",
       "129229  2019-03-10 23:58:23        search            Ios       2.8.0   \n",
       "129230  2019-03-10 23:58:34         visit        Android       2.8.0   \n",
       "129231  2019-03-10 23:58:40  view_product            Ios       2.8.0   \n",
       "129232  2019-03-10 23:58:45        search            Ios       2.8.0   \n",
       "129233  2019-03-10 23:58:59         visit            Ios       2.8.0   \n",
       "\n",
       "                              visitor_id  \\\n",
       "0       581cfab5a3fd5d10beb16fda07e6ed5c   \n",
       "1       8b37990ef22b83d9c633c6e70a08c860   \n",
       "2       8b37990ef22b83d9c633c6e70a08c860   \n",
       "3       8b37990ef22b83d9c633c6e70a08c860   \n",
       "4       581cfab5a3fd5d10beb16fda07e6ed5c   \n",
       "...                                  ...   \n",
       "129229  19BFB6A168824598B0B09B8812CAEE52   \n",
       "129230  8e9cc85d856c71ed23fe336728460d59   \n",
       "129231  19BFB6A168824598B0B09B8812CAEE52   \n",
       "129232  19BFB6A168824598B0B09B8812CAEE52   \n",
       "129233  19BFB6A168824598B0B09B8812CAEE52   \n",
       "\n",
       "                                             session_id  \n",
       "0       581cfab5a3fd5d10beb16fda07e6ed5c.20190225000004  \n",
       "1       8b37990ef22b83d9c633c6e70a08c860.20190225000005  \n",
       "2       8b37990ef22b83d9c633c6e70a08c860.20190225000005  \n",
       "3       8b37990ef22b83d9c633c6e70a08c860.20190225000005  \n",
       "4       581cfab5a3fd5d10beb16fda07e6ed5c.20190225000004  \n",
       "...                                                 ...  \n",
       "129229  19BFB6A168824598B0B09B8812CAEE52.20190310235501  \n",
       "129230  8e9cc85d856c71ed23fe336728460d59.20190310235707  \n",
       "129231  19BFB6A168824598B0B09B8812CAEE52.20190310235501  \n",
       "129232  19BFB6A168824598B0B09B8812CAEE52.20190310235501  \n",
       "129233  19BFB6A168824598B0B09B8812CAEE52.20190310235501  \n",
       "\n",
       "[129234 rows x 6 columns]"
      ]
     },
     "execution_count": 2,
     "metadata": {},
     "output_type": "execute_result"
    }
   ],
   "source": [
    "df = pd.read_csv('StudyCase.csv')\n",
    "df"
   ]
  },
  {
   "cell_type": "markdown",
   "metadata": {},
   "source": [
    "Mengecek Tipe Data pada data source"
   ]
  },
  {
   "cell_type": "code",
   "execution_count": 3,
   "metadata": {},
   "outputs": [
    {
     "data": {
      "text/plain": [
       "event_time        object\n",
       "event_name        object\n",
       "interface_type    object\n",
       "app_version       object\n",
       "visitor_id        object\n",
       "session_id        object\n",
       "dtype: object"
      ]
     },
     "execution_count": 3,
     "metadata": {},
     "output_type": "execute_result"
    }
   ],
   "source": [
    "df.dtypes"
   ]
  },
  {
   "cell_type": "markdown",
   "metadata": {},
   "source": [
    "Semua TipeData berupa tipedata Object "
   ]
  },
  {
   "cell_type": "code",
   "execution_count": 4,
   "metadata": {},
   "outputs": [
    {
     "name": "stdout",
     "output_type": "stream",
     "text": [
      "<class 'pandas.core.frame.DataFrame'>\n",
      "RangeIndex: 129234 entries, 0 to 129233\n",
      "Data columns (total 6 columns):\n",
      " #   Column          Non-Null Count   Dtype \n",
      "---  ------          --------------   ----- \n",
      " 0   event_time      129234 non-null  object\n",
      " 1   event_name      129234 non-null  object\n",
      " 2   interface_type  129234 non-null  object\n",
      " 3   app_version     129234 non-null  object\n",
      " 4   visitor_id      129234 non-null  object\n",
      " 5   session_id      129234 non-null  object\n",
      "dtypes: object(6)\n",
      "memory usage: 5.9+ MB\n"
     ]
    }
   ],
   "source": [
    "df.info()"
   ]
  },
  {
   "cell_type": "markdown",
   "metadata": {},
   "source": [
    "Mengganti nama kolom dan tipe data event_date"
   ]
  },
  {
   "cell_type": "code",
   "execution_count": 7,
   "metadata": {},
   "outputs": [],
   "source": [
    "df.rename(columns={'event_time':'event_date'}, inplace=True)"
   ]
  },
  {
   "cell_type": "markdown",
   "metadata": {},
   "source": [
    "Mengganti Format Tipe data event_date dari tipe data object menjadi date"
   ]
  },
  {
   "cell_type": "code",
   "execution_count": 8,
   "metadata": {},
   "outputs": [],
   "source": [
    "df['event_date'] = pd.to_datetime(df['event_date'], errors='coerce')"
   ]
  },
  {
   "cell_type": "markdown",
   "metadata": {},
   "source": [
    "Nama kolom telah diganti menjadi event_date"
   ]
  },
  {
   "cell_type": "code",
   "execution_count": 9,
   "metadata": {},
   "outputs": [
    {
     "data": {
      "text/html": [
       "<div>\n",
       "<style scoped>\n",
       "    .dataframe tbody tr th:only-of-type {\n",
       "        vertical-align: middle;\n",
       "    }\n",
       "\n",
       "    .dataframe tbody tr th {\n",
       "        vertical-align: top;\n",
       "    }\n",
       "\n",
       "    .dataframe thead th {\n",
       "        text-align: right;\n",
       "    }\n",
       "</style>\n",
       "<table border=\"1\" class=\"dataframe\">\n",
       "  <thead>\n",
       "    <tr style=\"text-align: right;\">\n",
       "      <th></th>\n",
       "      <th>event_date</th>\n",
       "      <th>event_name</th>\n",
       "      <th>interface_type</th>\n",
       "      <th>app_version</th>\n",
       "      <th>visitor_id</th>\n",
       "      <th>session_id</th>\n",
       "    </tr>\n",
       "  </thead>\n",
       "  <tbody>\n",
       "    <tr>\n",
       "      <th>0</th>\n",
       "      <td>2019-02-25 00:00:04</td>\n",
       "      <td>search</td>\n",
       "      <td>Android</td>\n",
       "      <td>2.7.1</td>\n",
       "      <td>581cfab5a3fd5d10beb16fda07e6ed5c</td>\n",
       "      <td>581cfab5a3fd5d10beb16fda07e6ed5c.20190225000004</td>\n",
       "    </tr>\n",
       "    <tr>\n",
       "      <th>1</th>\n",
       "      <td>2019-02-25 00:00:05</td>\n",
       "      <td>search</td>\n",
       "      <td>Android</td>\n",
       "      <td>2.7.1</td>\n",
       "      <td>8b37990ef22b83d9c633c6e70a08c860</td>\n",
       "      <td>8b37990ef22b83d9c633c6e70a08c860.20190225000005</td>\n",
       "    </tr>\n",
       "    <tr>\n",
       "      <th>2</th>\n",
       "      <td>2019-02-25 00:00:08</td>\n",
       "      <td>visit</td>\n",
       "      <td>Android</td>\n",
       "      <td>2.7.1</td>\n",
       "      <td>8b37990ef22b83d9c633c6e70a08c860</td>\n",
       "      <td>8b37990ef22b83d9c633c6e70a08c860.20190225000005</td>\n",
       "    </tr>\n",
       "    <tr>\n",
       "      <th>3</th>\n",
       "      <td>2019-02-25 00:00:30</td>\n",
       "      <td>search</td>\n",
       "      <td>Android</td>\n",
       "      <td>2.7.1</td>\n",
       "      <td>8b37990ef22b83d9c633c6e70a08c860</td>\n",
       "      <td>8b37990ef22b83d9c633c6e70a08c860.20190225000005</td>\n",
       "    </tr>\n",
       "    <tr>\n",
       "      <th>4</th>\n",
       "      <td>2019-02-25 00:00:36</td>\n",
       "      <td>view_product</td>\n",
       "      <td>Android</td>\n",
       "      <td>2.7.1</td>\n",
       "      <td>581cfab5a3fd5d10beb16fda07e6ed5c</td>\n",
       "      <td>581cfab5a3fd5d10beb16fda07e6ed5c.20190225000004</td>\n",
       "    </tr>\n",
       "    <tr>\n",
       "      <th>...</th>\n",
       "      <td>...</td>\n",
       "      <td>...</td>\n",
       "      <td>...</td>\n",
       "      <td>...</td>\n",
       "      <td>...</td>\n",
       "      <td>...</td>\n",
       "    </tr>\n",
       "    <tr>\n",
       "      <th>129229</th>\n",
       "      <td>2019-03-10 23:58:23</td>\n",
       "      <td>search</td>\n",
       "      <td>Ios</td>\n",
       "      <td>2.8.0</td>\n",
       "      <td>19BFB6A168824598B0B09B8812CAEE52</td>\n",
       "      <td>19BFB6A168824598B0B09B8812CAEE52.20190310235501</td>\n",
       "    </tr>\n",
       "    <tr>\n",
       "      <th>129230</th>\n",
       "      <td>2019-03-10 23:58:34</td>\n",
       "      <td>visit</td>\n",
       "      <td>Android</td>\n",
       "      <td>2.8.0</td>\n",
       "      <td>8e9cc85d856c71ed23fe336728460d59</td>\n",
       "      <td>8e9cc85d856c71ed23fe336728460d59.20190310235707</td>\n",
       "    </tr>\n",
       "    <tr>\n",
       "      <th>129231</th>\n",
       "      <td>2019-03-10 23:58:40</td>\n",
       "      <td>view_product</td>\n",
       "      <td>Ios</td>\n",
       "      <td>2.8.0</td>\n",
       "      <td>19BFB6A168824598B0B09B8812CAEE52</td>\n",
       "      <td>19BFB6A168824598B0B09B8812CAEE52.20190310235501</td>\n",
       "    </tr>\n",
       "    <tr>\n",
       "      <th>129232</th>\n",
       "      <td>2019-03-10 23:58:45</td>\n",
       "      <td>search</td>\n",
       "      <td>Ios</td>\n",
       "      <td>2.8.0</td>\n",
       "      <td>19BFB6A168824598B0B09B8812CAEE52</td>\n",
       "      <td>19BFB6A168824598B0B09B8812CAEE52.20190310235501</td>\n",
       "    </tr>\n",
       "    <tr>\n",
       "      <th>129233</th>\n",
       "      <td>2019-03-10 23:58:59</td>\n",
       "      <td>visit</td>\n",
       "      <td>Ios</td>\n",
       "      <td>2.8.0</td>\n",
       "      <td>19BFB6A168824598B0B09B8812CAEE52</td>\n",
       "      <td>19BFB6A168824598B0B09B8812CAEE52.20190310235501</td>\n",
       "    </tr>\n",
       "  </tbody>\n",
       "</table>\n",
       "<p>129234 rows × 6 columns</p>\n",
       "</div>"
      ],
      "text/plain": [
       "                event_date    event_name interface_type app_version  \\\n",
       "0      2019-02-25 00:00:04        search        Android       2.7.1   \n",
       "1      2019-02-25 00:00:05        search        Android       2.7.1   \n",
       "2      2019-02-25 00:00:08         visit        Android       2.7.1   \n",
       "3      2019-02-25 00:00:30        search        Android       2.7.1   \n",
       "4      2019-02-25 00:00:36  view_product        Android       2.7.1   \n",
       "...                    ...           ...            ...         ...   \n",
       "129229 2019-03-10 23:58:23        search            Ios       2.8.0   \n",
       "129230 2019-03-10 23:58:34         visit        Android       2.8.0   \n",
       "129231 2019-03-10 23:58:40  view_product            Ios       2.8.0   \n",
       "129232 2019-03-10 23:58:45        search            Ios       2.8.0   \n",
       "129233 2019-03-10 23:58:59         visit            Ios       2.8.0   \n",
       "\n",
       "                              visitor_id  \\\n",
       "0       581cfab5a3fd5d10beb16fda07e6ed5c   \n",
       "1       8b37990ef22b83d9c633c6e70a08c860   \n",
       "2       8b37990ef22b83d9c633c6e70a08c860   \n",
       "3       8b37990ef22b83d9c633c6e70a08c860   \n",
       "4       581cfab5a3fd5d10beb16fda07e6ed5c   \n",
       "...                                  ...   \n",
       "129229  19BFB6A168824598B0B09B8812CAEE52   \n",
       "129230  8e9cc85d856c71ed23fe336728460d59   \n",
       "129231  19BFB6A168824598B0B09B8812CAEE52   \n",
       "129232  19BFB6A168824598B0B09B8812CAEE52   \n",
       "129233  19BFB6A168824598B0B09B8812CAEE52   \n",
       "\n",
       "                                             session_id  \n",
       "0       581cfab5a3fd5d10beb16fda07e6ed5c.20190225000004  \n",
       "1       8b37990ef22b83d9c633c6e70a08c860.20190225000005  \n",
       "2       8b37990ef22b83d9c633c6e70a08c860.20190225000005  \n",
       "3       8b37990ef22b83d9c633c6e70a08c860.20190225000005  \n",
       "4       581cfab5a3fd5d10beb16fda07e6ed5c.20190225000004  \n",
       "...                                                 ...  \n",
       "129229  19BFB6A168824598B0B09B8812CAEE52.20190310235501  \n",
       "129230  8e9cc85d856c71ed23fe336728460d59.20190310235707  \n",
       "129231  19BFB6A168824598B0B09B8812CAEE52.20190310235501  \n",
       "129232  19BFB6A168824598B0B09B8812CAEE52.20190310235501  \n",
       "129233  19BFB6A168824598B0B09B8812CAEE52.20190310235501  \n",
       "\n",
       "[129234 rows x 6 columns]"
      ]
     },
     "execution_count": 9,
     "metadata": {},
     "output_type": "execute_result"
    }
   ],
   "source": [
    "df"
   ]
  },
  {
   "cell_type": "markdown",
   "metadata": {},
   "source": [
    "Mengecek nilai null pada data"
   ]
  },
  {
   "cell_type": "code",
   "execution_count": 10,
   "metadata": {},
   "outputs": [
    {
     "data": {
      "text/plain": [
       "event_date        14\n",
       "event_name         0\n",
       "interface_type     0\n",
       "app_version        0\n",
       "visitor_id         0\n",
       "session_id         0\n",
       "dtype: int64"
      ]
     },
     "execution_count": 10,
     "metadata": {},
     "output_type": "execute_result"
    }
   ],
   "source": [
    "df.isnull().sum()"
   ]
  },
  {
   "cell_type": "markdown",
   "metadata": {},
   "source": [
    "Mengecek frekuensi pada kolom event_name"
   ]
  },
  {
   "cell_type": "code",
   "execution_count": 16,
   "metadata": {},
   "outputs": [
    {
     "data": {
      "text/plain": [
       "visit             48779\n",
       "search            44188\n",
       "view_product      10871\n",
       "Visit              7608\n",
       "add_to_cart        7278\n",
       "Search             5998\n",
       "ViewProduct        1498\n",
       "checkout            992\n",
       "select_payment      733\n",
       "AddToCart           639\n",
       "create_booking      457\n",
       "Checkout             82\n",
       "SelectPayment        65\n",
       "CreateBooking        46\n",
       "Name: event_name, dtype: int64"
      ]
     },
     "execution_count": 16,
     "metadata": {},
     "output_type": "execute_result"
    }
   ],
   "source": [
    "df['event_name'].value_counts()"
   ]
  },
  {
   "cell_type": "markdown",
   "metadata": {},
   "source": [
    "Konversi tipedata Object ke tipedata string pada kolom Interface_type"
   ]
  },
  {
   "cell_type": "code",
   "execution_count": 11,
   "metadata": {},
   "outputs": [],
   "source": [
    "df['interface_type'] = df['interface_type'].astype('string')"
   ]
  },
  {
   "cell_type": "code",
   "execution_count": 12,
   "metadata": {},
   "outputs": [
    {
     "data": {
      "text/plain": [
       "0         Android\n",
       "1         Android\n",
       "2         Android\n",
       "3         Android\n",
       "4         Android\n",
       "           ...   \n",
       "129229        Ios\n",
       "129230    Android\n",
       "129231        Ios\n",
       "129232        Ios\n",
       "129233        Ios\n",
       "Name: interface_type, Length: 129234, dtype: string"
      ]
     },
     "execution_count": 12,
     "metadata": {},
     "output_type": "execute_result"
    }
   ],
   "source": [
    "df['interface_type']"
   ]
  },
  {
   "cell_type": "code",
   "execution_count": 13,
   "metadata": {},
   "outputs": [
    {
     "data": {
      "text/plain": [
       "Android    101697\n",
       "Ios         27537\n",
       "Name: interface_type, dtype: Int64"
      ]
     },
     "execution_count": 13,
     "metadata": {},
     "output_type": "execute_result"
    }
   ],
   "source": [
    "df['interface_type'].value_counts()"
   ]
  },
  {
   "cell_type": "markdown",
   "metadata": {},
   "source": [
    "## Konversi tipedata AppVersion ke String"
   ]
  },
  {
   "cell_type": "code",
   "execution_count": 14,
   "metadata": {},
   "outputs": [],
   "source": [
    "df['app_version'] = df['app_version'].astype('string')"
   ]
  },
  {
   "cell_type": "code",
   "execution_count": 15,
   "metadata": {},
   "outputs": [
    {
     "data": {
      "text/plain": [
       "0    2.7.1\n",
       "1    2.7.1\n",
       "2    2.7.1\n",
       "3    2.7.1\n",
       "4    2.7.1\n",
       "Name: app_version, dtype: string"
      ]
     },
     "execution_count": 15,
     "metadata": {},
     "output_type": "execute_result"
    }
   ],
   "source": [
    "df['app_version'].head()"
   ]
  },
  {
   "cell_type": "code",
   "execution_count": 17,
   "metadata": {},
   "outputs": [
    {
     "data": {
      "text/plain": [
       "event_date        datetime64[ns]\n",
       "event_name                object\n",
       "interface_type            string\n",
       "app_version               string\n",
       "visitor_id                object\n",
       "session_id                object\n",
       "dtype: object"
      ]
     },
     "execution_count": 17,
     "metadata": {},
     "output_type": "execute_result"
    }
   ],
   "source": [
    "df.dtypes"
   ]
  },
  {
   "cell_type": "code",
   "execution_count": 18,
   "metadata": {},
   "outputs": [
    {
     "name": "stdout",
     "output_type": "stream",
     "text": [
      "<class 'pandas.core.frame.DataFrame'>\n",
      "RangeIndex: 129234 entries, 0 to 129233\n",
      "Data columns (total 6 columns):\n",
      " #   Column          Non-Null Count   Dtype         \n",
      "---  ------          --------------   -----         \n",
      " 0   event_date      129220 non-null  datetime64[ns]\n",
      " 1   event_name      129234 non-null  object        \n",
      " 2   interface_type  129234 non-null  string        \n",
      " 3   app_version     129234 non-null  string        \n",
      " 4   visitor_id      129234 non-null  object        \n",
      " 5   session_id      129234 non-null  object        \n",
      "dtypes: datetime64[ns](1), object(3), string(2)\n",
      "memory usage: 5.9+ MB\n"
     ]
    }
   ],
   "source": [
    "df.info()"
   ]
  },
  {
   "cell_type": "markdown",
   "metadata": {},
   "source": [
    "## Membuat DataFrame"
   ]
  },
  {
   "cell_type": "code",
   "execution_count": 19,
   "metadata": {},
   "outputs": [],
   "source": [
    "data = {'Column Name' : ['event_date', 'interface_type', 'app_version', 'num_visit', 'num_search',\n",
    "                        'num_product_viewed', 'num_add_to_cart', 'num_checkout', 'num_payment_selected', 'num_booking_created',\n",
    "                        'num_session_visit', 'num_session_search', 'num_session_product_viewed', 'num_add_to_cart', 'num_session_checkout',\n",
    "                        'num_session_payment_selected', 'num_session_booking_created' ],\n",
    "       'Data Type' : ['DATE', 'STRING', 'STRING', 'INTEGER', 'INTEGER',\n",
    "                     'INTEGER', 'INTEGER', 'INTEGER', 'INTEGER', 'INTEGER',\n",
    "                     'INTEGER', 'INTEGER', 'INTEGER', 'INTEGER', 'INTEGER',\n",
    "                     'INTEGER', 'INTEGER'],\n",
    "       'Description' : ['Event date.', 'Interface type. Standardized values: ANDROID, IOS', 'Application version. Standardized format:9.9.9', 'Summary number of visit events.', 'Summary number of search events.',\n",
    "                        'Summary number of product viewed events.', 'Summary number of add to cart events.', 'Summary number of checkout events.', 'Summary number of payment selected events.', 'Summary number of booking created events.',\n",
    "                        'Summary number of visit session.', 'Summary number of search sessions.', 'Summary number of product viewed sessions.', 'Summary number of add to cart sessions.', 'Summary number of checkout sessions.',\n",
    "                        'Summary number of payment selected sessions.', 'Summary number of booking created sessions.']}\n",
    "\n",
    "daily_hotel_booking_funnel = pd.DataFrame(data)"
   ]
  },
  {
   "cell_type": "code",
   "execution_count": 20,
   "metadata": {},
   "outputs": [
    {
     "data": {
      "text/html": [
       "<div>\n",
       "<style scoped>\n",
       "    .dataframe tbody tr th:only-of-type {\n",
       "        vertical-align: middle;\n",
       "    }\n",
       "\n",
       "    .dataframe tbody tr th {\n",
       "        vertical-align: top;\n",
       "    }\n",
       "\n",
       "    .dataframe thead th {\n",
       "        text-align: right;\n",
       "    }\n",
       "</style>\n",
       "<table border=\"1\" class=\"dataframe\">\n",
       "  <thead>\n",
       "    <tr style=\"text-align: right;\">\n",
       "      <th></th>\n",
       "      <th>Column Name</th>\n",
       "      <th>Data Type</th>\n",
       "      <th>Description</th>\n",
       "    </tr>\n",
       "  </thead>\n",
       "  <tbody>\n",
       "    <tr>\n",
       "      <th>0</th>\n",
       "      <td>event_date</td>\n",
       "      <td>DATE</td>\n",
       "      <td>Event date.</td>\n",
       "    </tr>\n",
       "    <tr>\n",
       "      <th>1</th>\n",
       "      <td>interface_type</td>\n",
       "      <td>STRING</td>\n",
       "      <td>Interface type. Standardized values: ANDROID, IOS</td>\n",
       "    </tr>\n",
       "    <tr>\n",
       "      <th>2</th>\n",
       "      <td>app_version</td>\n",
       "      <td>STRING</td>\n",
       "      <td>Application version. Standardized format:9.9.9</td>\n",
       "    </tr>\n",
       "    <tr>\n",
       "      <th>3</th>\n",
       "      <td>num_visit</td>\n",
       "      <td>INTEGER</td>\n",
       "      <td>Summary number of visit events.</td>\n",
       "    </tr>\n",
       "    <tr>\n",
       "      <th>4</th>\n",
       "      <td>num_search</td>\n",
       "      <td>INTEGER</td>\n",
       "      <td>Summary number of search events.</td>\n",
       "    </tr>\n",
       "    <tr>\n",
       "      <th>5</th>\n",
       "      <td>num_product_viewed</td>\n",
       "      <td>INTEGER</td>\n",
       "      <td>Summary number of product viewed events.</td>\n",
       "    </tr>\n",
       "    <tr>\n",
       "      <th>6</th>\n",
       "      <td>num_add_to_cart</td>\n",
       "      <td>INTEGER</td>\n",
       "      <td>Summary number of add to cart events.</td>\n",
       "    </tr>\n",
       "    <tr>\n",
       "      <th>7</th>\n",
       "      <td>num_checkout</td>\n",
       "      <td>INTEGER</td>\n",
       "      <td>Summary number of checkout events.</td>\n",
       "    </tr>\n",
       "    <tr>\n",
       "      <th>8</th>\n",
       "      <td>num_payment_selected</td>\n",
       "      <td>INTEGER</td>\n",
       "      <td>Summary number of payment selected events.</td>\n",
       "    </tr>\n",
       "    <tr>\n",
       "      <th>9</th>\n",
       "      <td>num_booking_created</td>\n",
       "      <td>INTEGER</td>\n",
       "      <td>Summary number of booking created events.</td>\n",
       "    </tr>\n",
       "    <tr>\n",
       "      <th>10</th>\n",
       "      <td>num_session_visit</td>\n",
       "      <td>INTEGER</td>\n",
       "      <td>Summary number of visit session.</td>\n",
       "    </tr>\n",
       "    <tr>\n",
       "      <th>11</th>\n",
       "      <td>num_session_search</td>\n",
       "      <td>INTEGER</td>\n",
       "      <td>Summary number of search sessions.</td>\n",
       "    </tr>\n",
       "    <tr>\n",
       "      <th>12</th>\n",
       "      <td>num_session_product_viewed</td>\n",
       "      <td>INTEGER</td>\n",
       "      <td>Summary number of product viewed sessions.</td>\n",
       "    </tr>\n",
       "    <tr>\n",
       "      <th>13</th>\n",
       "      <td>num_add_to_cart</td>\n",
       "      <td>INTEGER</td>\n",
       "      <td>Summary number of add to cart sessions.</td>\n",
       "    </tr>\n",
       "    <tr>\n",
       "      <th>14</th>\n",
       "      <td>num_session_checkout</td>\n",
       "      <td>INTEGER</td>\n",
       "      <td>Summary number of checkout sessions.</td>\n",
       "    </tr>\n",
       "    <tr>\n",
       "      <th>15</th>\n",
       "      <td>num_session_payment_selected</td>\n",
       "      <td>INTEGER</td>\n",
       "      <td>Summary number of payment selected sessions.</td>\n",
       "    </tr>\n",
       "    <tr>\n",
       "      <th>16</th>\n",
       "      <td>num_session_booking_created</td>\n",
       "      <td>INTEGER</td>\n",
       "      <td>Summary number of booking created sessions.</td>\n",
       "    </tr>\n",
       "  </tbody>\n",
       "</table>\n",
       "</div>"
      ],
      "text/plain": [
       "                     Column Name Data Type  \\\n",
       "0                     event_date      DATE   \n",
       "1                 interface_type    STRING   \n",
       "2                    app_version    STRING   \n",
       "3                      num_visit   INTEGER   \n",
       "4                     num_search   INTEGER   \n",
       "5             num_product_viewed   INTEGER   \n",
       "6                num_add_to_cart   INTEGER   \n",
       "7                   num_checkout   INTEGER   \n",
       "8           num_payment_selected   INTEGER   \n",
       "9            num_booking_created   INTEGER   \n",
       "10             num_session_visit   INTEGER   \n",
       "11            num_session_search   INTEGER   \n",
       "12    num_session_product_viewed   INTEGER   \n",
       "13               num_add_to_cart   INTEGER   \n",
       "14          num_session_checkout   INTEGER   \n",
       "15  num_session_payment_selected   INTEGER   \n",
       "16   num_session_booking_created   INTEGER   \n",
       "\n",
       "                                          Description  \n",
       "0                                         Event date.  \n",
       "1   Interface type. Standardized values: ANDROID, IOS  \n",
       "2      Application version. Standardized format:9.9.9  \n",
       "3                     Summary number of visit events.  \n",
       "4                    Summary number of search events.  \n",
       "5            Summary number of product viewed events.  \n",
       "6               Summary number of add to cart events.  \n",
       "7                  Summary number of checkout events.  \n",
       "8          Summary number of payment selected events.  \n",
       "9           Summary number of booking created events.  \n",
       "10                   Summary number of visit session.  \n",
       "11                 Summary number of search sessions.  \n",
       "12         Summary number of product viewed sessions.  \n",
       "13            Summary number of add to cart sessions.  \n",
       "14               Summary number of checkout sessions.  \n",
       "15       Summary number of payment selected sessions.  \n",
       "16        Summary number of booking created sessions.  "
      ]
     },
     "execution_count": 20,
     "metadata": {},
     "output_type": "execute_result"
    }
   ],
   "source": [
    "daily_hotel_booking_funnel "
   ]
  },
  {
   "cell_type": "code",
   "execution_count": 21,
   "metadata": {},
   "outputs": [],
   "source": [
    "daily_hotel_booking_funnel.to_csv('daily_hotel_booking_funnel.csv', index=False)"
   ]
  },
  {
   "cell_type": "code",
   "execution_count": null,
   "metadata": {},
   "outputs": [],
   "source": []
  },
  {
   "cell_type": "code",
   "execution_count": null,
   "metadata": {},
   "outputs": [],
   "source": []
  }
 ],
 "metadata": {
  "kernelspec": {
   "display_name": "Python 3",
   "language": "python",
   "name": "python3"
  },
  "language_info": {
   "codemirror_mode": {
    "name": "ipython",
    "version": 3
   },
   "file_extension": ".py",
   "mimetype": "text/x-python",
   "name": "python",
   "nbconvert_exporter": "python",
   "pygments_lexer": "ipython3",
   "version": "3.7.6"
  }
 },
 "nbformat": 4,
 "nbformat_minor": 4
}
